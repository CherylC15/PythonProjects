{
  "nbformat": 4,
  "nbformat_minor": 0,
  "metadata": {
    "colab": {
      "provenance": [],
      "toc_visible": true,
      "authorship_tag": "ABX9TyO3hSwhJB8DkLkV1GcbbCa7",
      "include_colab_link": true
    },
    "kernelspec": {
      "name": "python3",
      "display_name": "Python 3"
    },
    "language_info": {
      "name": "python"
    }
  },
  "cells": [
    {
      "cell_type": "markdown",
      "metadata": {
        "id": "view-in-github",
        "colab_type": "text"
      },
      "source": [
        "<a href=\"https://colab.research.google.com/github/CherylC15/PythonProjects/blob/main/MLProject_Healthcare%20Provider%20Fraud%20Detection%20Analysis.ipynb\" target=\"_parent\"><img src=\"https://colab.research.google.com/assets/colab-badge.svg\" alt=\"Open In Colab\"/></a>"
      ]
    },
    {
      "cell_type": "markdown",
      "source": [
        "After EDA through MySQL,\n",
        "\n",
        "1.   Import libraries\n",
        "2.   EDA\n",
        " *   Provider\n",
        " *   Beneficiary\n",
        " *   Inpatient\n",
        " *   Outpatient\n",
        "3. concact inpatient and outpatient\n",
        "\n",
        "\n",
        "\n",
        "\n",
        "  --\n",
        "\n"
      ],
      "metadata": {
        "id": "1r9zcj1n6ntf"
      }
    },
    {
      "cell_type": "code",
      "execution_count": null,
      "metadata": {
        "id": "kd-Ueh7zYDil"
      },
      "outputs": [],
      "source": [
        "# Import libraries\n",
        "\n",
        "import numpy as np # provides powerful numerical arrays objects, and routines to manipulate them\n",
        "import scipy as sp\n",
        "from scipy import stats # high-level data processing routines. Optimization, regression, interpolation\n",
        "import pandas as pd # data processing\n",
        "\n",
        "%matplotlib inline\n",
        "import matplotlib.pylab as plt #2-D visualization, “publication-ready” plots\n",
        "\n",
        "from sklearn.feature_extraction.text import CountVectorizer\n",
        "from sklearn.preprocessing import StandardScaler\n",
        "from sklearn.preprocessing import OneHotEncoder , OrdinalEncoder , LabelEncoder\n",
        "import tensorflow as tf\n",
        "from sklearn.utils import shuffle\n",
        "from sklearn.model_selection import train_test_split\n",
        "from sklearn.metrics import classification_report\n",
        "from sklearn.utils.class_weight import compute_class_weight"
      ]
    },
    {
      "cell_type": "code",
      "source": [
        "# Import data\n",
        "df_train_prov = pd.read_csv('/content/MLProject/Train-1542865627584.csv')\n",
        "df_train_ben = pd.read_csv('/content/MLProject/Train_Beneficiarydata-1542865627584.csv')\n",
        "df_train_ip = pd.read_csv('/content/MLProject/Train_Inpatientdata-1542865627584.csv')\n",
        "df_train_op = pd.read_csv('/content/MLProject/Train_Outpatientdata-1542865627584.csv')"
      ],
      "metadata": {
        "id": "cJyTQ_Mo6AID"
      },
      "execution_count": null,
      "outputs": []
    },
    {
      "cell_type": "markdown",
      "source": [
        "Provider\n",
        "1. 5410 unique values\n",
        "2. 506 fraud provider; 9.4%"
      ],
      "metadata": {
        "id": "DlMbv5T33ZJq"
      }
    },
    {
      "cell_type": "code",
      "source": [
        "df_train_prov.shape\n",
        "df_train_prov.head"
      ],
      "metadata": {
        "colab": {
          "base_uri": "https://localhost:8080/"
        },
        "id": "ZkQbk_L_xMsF",
        "outputId": "5b25e238-8c38-468e-b650-a225e25b1278"
      },
      "execution_count": null,
      "outputs": [
        {
          "output_type": "execute_result",
          "data": {
            "text/plain": [
              "<bound method NDFrame.head of       Provider PotentialFraud\n",
              "0     PRV51001             No\n",
              "1     PRV51003            Yes\n",
              "2     PRV51004             No\n",
              "3     PRV51005            Yes\n",
              "4     PRV51007             No\n",
              "...        ...            ...\n",
              "5405  PRV57759             No\n",
              "5406  PRV57760             No\n",
              "5407  PRV57761             No\n",
              "5408  PRV57762             No\n",
              "5409  PRV57763             No\n",
              "\n",
              "[5410 rows x 2 columns]>"
            ]
          },
          "metadata": {},
          "execution_count": 6
        }
      ]
    },
    {
      "cell_type": "markdown",
      "source": [
        "Beneficiary\n",
        "\n",
        "1.   no duplicates\n",
        "2.   Total 38556 unique BeneID\n",
        "3.   Need to calculate age in Python\n",
        "4.   Drop Race, State, County, PartACov, PartBCov"
      ],
      "metadata": {
        "id": "cwR1rXIb8elO"
      }
    },
    {
      "cell_type": "code",
      "source": [
        "df_train_ben = pd.read_csv('/content/MLProject/Train_Beneficiarydata-1542865627584.csv')\n",
        "df_train_ben.shape\n",
        "df_train_ben.head()"
      ],
      "metadata": {
        "id": "qVtfBwByYJa5",
        "colab": {
          "base_uri": "https://localhost:8080/",
          "height": 222
        },
        "outputId": "21b6e7d3-df61-4e75-ebab-51bf5989ecbb"
      },
      "execution_count": null,
      "outputs": [
        {
          "output_type": "error",
          "ename": "NameError",
          "evalue": "ignored",
          "traceback": [
            "\u001b[0;31m---------------------------------------------------------------------------\u001b[0m",
            "\u001b[0;31mNameError\u001b[0m                                 Traceback (most recent call last)",
            "\u001b[0;32m<ipython-input-1-d045d623001e>\u001b[0m in \u001b[0;36m<cell line: 1>\u001b[0;34m()\u001b[0m\n\u001b[0;32m----> 1\u001b[0;31m \u001b[0mdf_train_ben\u001b[0m \u001b[0;34m=\u001b[0m \u001b[0mpd\u001b[0m\u001b[0;34m.\u001b[0m\u001b[0mread_csv\u001b[0m\u001b[0;34m(\u001b[0m\u001b[0;34m'/content/MLProject/Train_Beneficiarydata-1542865627584.csv'\u001b[0m\u001b[0;34m)\u001b[0m\u001b[0;34m\u001b[0m\u001b[0;34m\u001b[0m\u001b[0m\n\u001b[0m\u001b[1;32m      2\u001b[0m \u001b[0mdf_train_ben\u001b[0m\u001b[0;34m.\u001b[0m\u001b[0mshape\u001b[0m\u001b[0;34m\u001b[0m\u001b[0;34m\u001b[0m\u001b[0m\n\u001b[1;32m      3\u001b[0m \u001b[0mdf_train_ben\u001b[0m\u001b[0;34m.\u001b[0m\u001b[0mhead\u001b[0m\u001b[0;34m(\u001b[0m\u001b[0;34m)\u001b[0m\u001b[0;34m\u001b[0m\u001b[0;34m\u001b[0m\u001b[0m\n",
            "\u001b[0;31mNameError\u001b[0m: name 'pd' is not defined"
          ]
        }
      ]
    },
    {
      "cell_type": "code",
      "source": [
        "df_train_benC = df_train_ben.drop(columns=['Race','State', 'County', 'NoOfMonths_PartACov','NoOfMonths_PartBCov'])"
      ],
      "metadata": {
        "id": "o4nPDhrrxSGl"
      },
      "execution_count": null,
      "outputs": []
    },
    {
      "cell_type": "code",
      "source": [
        "df_train_benC['DOD'] = pd.to_datetime(df_train_benC['DOD'], format='%Y-%m-%d')\n",
        "df_train_benC['DOB'] = pd.to_datetime(df_train_benC['DOB'], format='%Y-%m-%d')\n",
        "df_train_benC[\"DOD\"].max()"
      ],
      "metadata": {
        "id": "GRpLVIniYjNp",
        "colab": {
          "base_uri": "https://localhost:8080/"
        },
        "outputId": "1a03e308-6b14-49d6-d296-7d7b35391ebd"
      },
      "execution_count": null,
      "outputs": [
        {
          "output_type": "execute_result",
          "data": {
            "text/plain": [
              "Timestamp('2009-12-01 00:00:00')"
            ]
          },
          "metadata": {},
          "execution_count": 9
        }
      ]
    },
    {
      "cell_type": "code",
      "source": [
        "df_train_benC[df_train_benC.DOD == df_train_benC.DOD.max()]\n",
        "df_train_benC[\"DOD\"].fillna(\"2009-12-01\", inplace = True)"
      ],
      "metadata": {
        "id": "s2d9TfpjAMGk"
      },
      "execution_count": null,
      "outputs": []
    },
    {
      "cell_type": "code",
      "source": [
        "# Add \"age\" column\n",
        "df_train_benC['Age'] = df_train_benC['DOD'].dt.year - df_train_benC['DOB'].dt.year\n",
        "df_train_benC.head()"
      ],
      "metadata": {
        "id": "JE5TjLHyHrx6",
        "colab": {
          "base_uri": "https://localhost:8080/",
          "height": 386
        },
        "outputId": "32114a8d-3723-4ec9-9916-50c9f1b23611"
      },
      "execution_count": null,
      "outputs": [
        {
          "output_type": "execute_result",
          "data": {
            "text/plain": [
              "      BeneID        DOB        DOD  Gender RenalDiseaseIndicator  \\\n",
              "0  BENE11001 1943-01-01 2009-12-01       1                     0   \n",
              "1  BENE11002 1936-09-01 2009-12-01       2                     0   \n",
              "2  BENE11003 1936-08-01 2009-12-01       1                     0   \n",
              "3  BENE11004 1922-07-01 2009-12-01       1                     0   \n",
              "4  BENE11005 1935-09-01 2009-12-01       1                     0   \n",
              "\n",
              "   ChronicCond_Alzheimer  ChronicCond_Heartfailure  ChronicCond_KidneyDisease  \\\n",
              "0                      1                         2                          1   \n",
              "1                      2                         2                          2   \n",
              "2                      1                         2                          2   \n",
              "3                      1                         1                          2   \n",
              "4                      2                         2                          2   \n",
              "\n",
              "   ChronicCond_Cancer  ChronicCond_ObstrPulmonary  ...  ChronicCond_Diabetes  \\\n",
              "0                   2                           2  ...                     1   \n",
              "1                   2                           2  ...                     2   \n",
              "2                   2                           2  ...                     2   \n",
              "3                   2                           2  ...                     1   \n",
              "4                   2                           1  ...                     1   \n",
              "\n",
              "   ChronicCond_IschemicHeart  ChronicCond_Osteoporasis  \\\n",
              "0                          1                         2   \n",
              "1                          2                         2   \n",
              "2                          1                         2   \n",
              "3                          1                         1   \n",
              "4                          2                         2   \n",
              "\n",
              "   ChronicCond_rheumatoidarthritis  ChronicCond_stroke  \\\n",
              "0                                1                   1   \n",
              "1                                2                   2   \n",
              "2                                2                   2   \n",
              "3                                1                   2   \n",
              "4                                2                   2   \n",
              "\n",
              "   IPAnnualReimbursementAmt  IPAnnualDeductibleAmt  OPAnnualReimbursementAmt  \\\n",
              "0                     36000                   3204                        60   \n",
              "1                         0                      0                        30   \n",
              "2                         0                      0                        90   \n",
              "3                         0                      0                      1810   \n",
              "4                         0                      0                      1790   \n",
              "\n",
              "   OPAnnualDeductibleAmt  Age  \n",
              "0                     70   66  \n",
              "1                     50   73  \n",
              "2                     40   73  \n",
              "3                    760   87  \n",
              "4                   1200   74  \n",
              "\n",
              "[5 rows x 21 columns]"
            ],
            "text/html": [
              "\n",
              "  <div id=\"df-79c6f999-830b-461e-8237-bd065cc940bc\">\n",
              "    <div class=\"colab-df-container\">\n",
              "      <div>\n",
              "<style scoped>\n",
              "    .dataframe tbody tr th:only-of-type {\n",
              "        vertical-align: middle;\n",
              "    }\n",
              "\n",
              "    .dataframe tbody tr th {\n",
              "        vertical-align: top;\n",
              "    }\n",
              "\n",
              "    .dataframe thead th {\n",
              "        text-align: right;\n",
              "    }\n",
              "</style>\n",
              "<table border=\"1\" class=\"dataframe\">\n",
              "  <thead>\n",
              "    <tr style=\"text-align: right;\">\n",
              "      <th></th>\n",
              "      <th>BeneID</th>\n",
              "      <th>DOB</th>\n",
              "      <th>DOD</th>\n",
              "      <th>Gender</th>\n",
              "      <th>RenalDiseaseIndicator</th>\n",
              "      <th>ChronicCond_Alzheimer</th>\n",
              "      <th>ChronicCond_Heartfailure</th>\n",
              "      <th>ChronicCond_KidneyDisease</th>\n",
              "      <th>ChronicCond_Cancer</th>\n",
              "      <th>ChronicCond_ObstrPulmonary</th>\n",
              "      <th>...</th>\n",
              "      <th>ChronicCond_Diabetes</th>\n",
              "      <th>ChronicCond_IschemicHeart</th>\n",
              "      <th>ChronicCond_Osteoporasis</th>\n",
              "      <th>ChronicCond_rheumatoidarthritis</th>\n",
              "      <th>ChronicCond_stroke</th>\n",
              "      <th>IPAnnualReimbursementAmt</th>\n",
              "      <th>IPAnnualDeductibleAmt</th>\n",
              "      <th>OPAnnualReimbursementAmt</th>\n",
              "      <th>OPAnnualDeductibleAmt</th>\n",
              "      <th>Age</th>\n",
              "    </tr>\n",
              "  </thead>\n",
              "  <tbody>\n",
              "    <tr>\n",
              "      <th>0</th>\n",
              "      <td>BENE11001</td>\n",
              "      <td>1943-01-01</td>\n",
              "      <td>2009-12-01</td>\n",
              "      <td>1</td>\n",
              "      <td>0</td>\n",
              "      <td>1</td>\n",
              "      <td>2</td>\n",
              "      <td>1</td>\n",
              "      <td>2</td>\n",
              "      <td>2</td>\n",
              "      <td>...</td>\n",
              "      <td>1</td>\n",
              "      <td>1</td>\n",
              "      <td>2</td>\n",
              "      <td>1</td>\n",
              "      <td>1</td>\n",
              "      <td>36000</td>\n",
              "      <td>3204</td>\n",
              "      <td>60</td>\n",
              "      <td>70</td>\n",
              "      <td>66</td>\n",
              "    </tr>\n",
              "    <tr>\n",
              "      <th>1</th>\n",
              "      <td>BENE11002</td>\n",
              "      <td>1936-09-01</td>\n",
              "      <td>2009-12-01</td>\n",
              "      <td>2</td>\n",
              "      <td>0</td>\n",
              "      <td>2</td>\n",
              "      <td>2</td>\n",
              "      <td>2</td>\n",
              "      <td>2</td>\n",
              "      <td>2</td>\n",
              "      <td>...</td>\n",
              "      <td>2</td>\n",
              "      <td>2</td>\n",
              "      <td>2</td>\n",
              "      <td>2</td>\n",
              "      <td>2</td>\n",
              "      <td>0</td>\n",
              "      <td>0</td>\n",
              "      <td>30</td>\n",
              "      <td>50</td>\n",
              "      <td>73</td>\n",
              "    </tr>\n",
              "    <tr>\n",
              "      <th>2</th>\n",
              "      <td>BENE11003</td>\n",
              "      <td>1936-08-01</td>\n",
              "      <td>2009-12-01</td>\n",
              "      <td>1</td>\n",
              "      <td>0</td>\n",
              "      <td>1</td>\n",
              "      <td>2</td>\n",
              "      <td>2</td>\n",
              "      <td>2</td>\n",
              "      <td>2</td>\n",
              "      <td>...</td>\n",
              "      <td>2</td>\n",
              "      <td>1</td>\n",
              "      <td>2</td>\n",
              "      <td>2</td>\n",
              "      <td>2</td>\n",
              "      <td>0</td>\n",
              "      <td>0</td>\n",
              "      <td>90</td>\n",
              "      <td>40</td>\n",
              "      <td>73</td>\n",
              "    </tr>\n",
              "    <tr>\n",
              "      <th>3</th>\n",
              "      <td>BENE11004</td>\n",
              "      <td>1922-07-01</td>\n",
              "      <td>2009-12-01</td>\n",
              "      <td>1</td>\n",
              "      <td>0</td>\n",
              "      <td>1</td>\n",
              "      <td>1</td>\n",
              "      <td>2</td>\n",
              "      <td>2</td>\n",
              "      <td>2</td>\n",
              "      <td>...</td>\n",
              "      <td>1</td>\n",
              "      <td>1</td>\n",
              "      <td>1</td>\n",
              "      <td>1</td>\n",
              "      <td>2</td>\n",
              "      <td>0</td>\n",
              "      <td>0</td>\n",
              "      <td>1810</td>\n",
              "      <td>760</td>\n",
              "      <td>87</td>\n",
              "    </tr>\n",
              "    <tr>\n",
              "      <th>4</th>\n",
              "      <td>BENE11005</td>\n",
              "      <td>1935-09-01</td>\n",
              "      <td>2009-12-01</td>\n",
              "      <td>1</td>\n",
              "      <td>0</td>\n",
              "      <td>2</td>\n",
              "      <td>2</td>\n",
              "      <td>2</td>\n",
              "      <td>2</td>\n",
              "      <td>1</td>\n",
              "      <td>...</td>\n",
              "      <td>1</td>\n",
              "      <td>2</td>\n",
              "      <td>2</td>\n",
              "      <td>2</td>\n",
              "      <td>2</td>\n",
              "      <td>0</td>\n",
              "      <td>0</td>\n",
              "      <td>1790</td>\n",
              "      <td>1200</td>\n",
              "      <td>74</td>\n",
              "    </tr>\n",
              "  </tbody>\n",
              "</table>\n",
              "<p>5 rows × 21 columns</p>\n",
              "</div>\n",
              "      <button class=\"colab-df-convert\" onclick=\"convertToInteractive('df-79c6f999-830b-461e-8237-bd065cc940bc')\"\n",
              "              title=\"Convert this dataframe to an interactive table.\"\n",
              "              style=\"display:none;\">\n",
              "        \n",
              "  <svg xmlns=\"http://www.w3.org/2000/svg\" height=\"24px\"viewBox=\"0 0 24 24\"\n",
              "       width=\"24px\">\n",
              "    <path d=\"M0 0h24v24H0V0z\" fill=\"none\"/>\n",
              "    <path d=\"M18.56 5.44l.94 2.06.94-2.06 2.06-.94-2.06-.94-.94-2.06-.94 2.06-2.06.94zm-11 1L8.5 8.5l.94-2.06 2.06-.94-2.06-.94L8.5 2.5l-.94 2.06-2.06.94zm10 10l.94 2.06.94-2.06 2.06-.94-2.06-.94-.94-2.06-.94 2.06-2.06.94z\"/><path d=\"M17.41 7.96l-1.37-1.37c-.4-.4-.92-.59-1.43-.59-.52 0-1.04.2-1.43.59L10.3 9.45l-7.72 7.72c-.78.78-.78 2.05 0 2.83L4 21.41c.39.39.9.59 1.41.59.51 0 1.02-.2 1.41-.59l7.78-7.78 2.81-2.81c.8-.78.8-2.07 0-2.86zM5.41 20L4 18.59l7.72-7.72 1.47 1.35L5.41 20z\"/>\n",
              "  </svg>\n",
              "      </button>\n",
              "      \n",
              "  <style>\n",
              "    .colab-df-container {\n",
              "      display:flex;\n",
              "      flex-wrap:wrap;\n",
              "      gap: 12px;\n",
              "    }\n",
              "\n",
              "    .colab-df-convert {\n",
              "      background-color: #E8F0FE;\n",
              "      border: none;\n",
              "      border-radius: 50%;\n",
              "      cursor: pointer;\n",
              "      display: none;\n",
              "      fill: #1967D2;\n",
              "      height: 32px;\n",
              "      padding: 0 0 0 0;\n",
              "      width: 32px;\n",
              "    }\n",
              "\n",
              "    .colab-df-convert:hover {\n",
              "      background-color: #E2EBFA;\n",
              "      box-shadow: 0px 1px 2px rgba(60, 64, 67, 0.3), 0px 1px 3px 1px rgba(60, 64, 67, 0.15);\n",
              "      fill: #174EA6;\n",
              "    }\n",
              "\n",
              "    [theme=dark] .colab-df-convert {\n",
              "      background-color: #3B4455;\n",
              "      fill: #D2E3FC;\n",
              "    }\n",
              "\n",
              "    [theme=dark] .colab-df-convert:hover {\n",
              "      background-color: #434B5C;\n",
              "      box-shadow: 0px 1px 3px 1px rgba(0, 0, 0, 0.15);\n",
              "      filter: drop-shadow(0px 1px 2px rgba(0, 0, 0, 0.3));\n",
              "      fill: #FFFFFF;\n",
              "    }\n",
              "  </style>\n",
              "\n",
              "      <script>\n",
              "        const buttonEl =\n",
              "          document.querySelector('#df-79c6f999-830b-461e-8237-bd065cc940bc button.colab-df-convert');\n",
              "        buttonEl.style.display =\n",
              "          google.colab.kernel.accessAllowed ? 'block' : 'none';\n",
              "\n",
              "        async function convertToInteractive(key) {\n",
              "          const element = document.querySelector('#df-79c6f999-830b-461e-8237-bd065cc940bc');\n",
              "          const dataTable =\n",
              "            await google.colab.kernel.invokeFunction('convertToInteractive',\n",
              "                                                     [key], {});\n",
              "          if (!dataTable) return;\n",
              "\n",
              "          const docLinkHtml = 'Like what you see? Visit the ' +\n",
              "            '<a target=\"_blank\" href=https://colab.research.google.com/notebooks/data_table.ipynb>data table notebook</a>'\n",
              "            + ' to learn more about interactive tables.';\n",
              "          element.innerHTML = '';\n",
              "          dataTable['output_type'] = 'display_data';\n",
              "          await google.colab.output.renderOutput(dataTable, element);\n",
              "          const docLink = document.createElement('div');\n",
              "          docLink.innerHTML = docLinkHtml;\n",
              "          element.appendChild(docLink);\n",
              "        }\n",
              "      </script>\n",
              "    </div>\n",
              "  </div>\n",
              "  "
            ]
          },
          "metadata": {},
          "execution_count": 12
        }
      ]
    },
    {
      "cell_type": "code",
      "source": [
        "mean_age = np.mean(df_train_benC['Age'] )\n",
        "\n",
        "print(mean_age)"
      ],
      "metadata": {
        "colab": {
          "base_uri": "https://localhost:8080/"
        },
        "id": "pMz-k1iuQRme",
        "outputId": "07d39c83-4110-4142-d06f-a32ef5653196"
      },
      "execution_count": null,
      "outputs": [
        {
          "output_type": "stream",
          "name": "stdout",
          "text": [
            "73.12866277894858\n"
          ]
        }
      ]
    },
    {
      "cell_type": "markdown",
      "source": [
        "Inpatient\n",
        "\n",
        "\n",
        "1. distinct BeneID 30401; total claim 38992. Different from Kaggle data???\n",
        "2. Avg stay 5.493 days\n",
        "3. Max 7 claim/year\n",
        "4. Avg Amount Reimbursed 10.1k\n",
        "5. drop (OperatingPhysician), OtherPhysician, DeductibleAmyPd, ClmProcedureCode_1~\n"
      ],
      "metadata": {
        "id": "YijYYcnOSwoJ"
      }
    },
    {
      "cell_type": "code",
      "source": [
        "df_train_ipC= df_train_ip.drop(columns=['OtherPhysician','ClmDiagnosisCode_10','ClmProcedureCode_2', 'ClmProcedureCode_3', 'ClmProcedureCode_4', 'ClmProcedureCode_5','ClmProcedureCode_6'])\n",
        "df_train_ipC.columns"
      ],
      "metadata": {
        "colab": {
          "base_uri": "https://localhost:8080/"
        },
        "id": "J9IQQA61uIz2",
        "outputId": "a1053901-6915-49de-d92f-d464a6768757"
      },
      "execution_count": null,
      "outputs": [
        {
          "output_type": "execute_result",
          "data": {
            "text/plain": [
              "Index(['BeneID', 'ClaimID', 'ClaimStartDt', 'ClaimEndDt', 'Provider',\n",
              "       'InscClaimAmtReimbursed', 'AttendingPhysician', 'OperatingPhysician',\n",
              "       'AdmissionDt', 'ClmAdmitDiagnosisCode', 'DeductibleAmtPaid',\n",
              "       'DischargeDt', 'DiagnosisGroupCode', 'ClmDiagnosisCode_1',\n",
              "       'ClmDiagnosisCode_2', 'ClmDiagnosisCode_3', 'ClmDiagnosisCode_4',\n",
              "       'ClmDiagnosisCode_5', 'ClmDiagnosisCode_6', 'ClmDiagnosisCode_7',\n",
              "       'ClmDiagnosisCode_8', 'ClmDiagnosisCode_9', 'ClmProcedureCode_1'],\n",
              "      dtype='object')"
            ]
          },
          "metadata": {},
          "execution_count": 14
        }
      ]
    },
    {
      "cell_type": "code",
      "source": [
        "df_train_ipC.shape\n",
        "df_train_ipC.head"
      ],
      "metadata": {
        "id": "3LQt7oF9TKNM"
      },
      "execution_count": null,
      "outputs": []
    },
    {
      "cell_type": "code",
      "source": [
        "# How many beneficiary claimed ip\n",
        "df_train_benC[\"has_claimed_ip\"] = df_train_benC[\"BeneID\"].isin(df_train_ipC[\"BeneID\"])\n",
        "claimed_ip = df_train_benC[\"has_claimed_ip\"].sum()\n",
        "percentage_claimed_ip = np.round((claimed_ip/38556) * 100, 2)\n",
        "print(percentage_claimed_ip)"
      ],
      "metadata": {
        "colab": {
          "base_uri": "https://localhost:8080/"
        },
        "id": "QC-tm3ZrUIZH",
        "outputId": "3427d6e5-307d-4556-eeac-0244a5946a9b"
      },
      "execution_count": null,
      "outputs": [
        {
          "output_type": "stream",
          "name": "stdout",
          "text": [
            "81.15\n"
          ]
        }
      ]
    },
    {
      "cell_type": "code",
      "source": [
        "# Join ip and prov data\n",
        "df_train_ipJ = df_train_ipC.join(df_train_prov.set_index('Provider'), on='Provider')"
      ],
      "metadata": {
        "id": "aVe4CMTQsdU9"
      },
      "execution_count": null,
      "outputs": []
    },
    {
      "cell_type": "code",
      "source": [
        "df_train_ip_all = df_train_ipJ.join(df_train_benC.set_index('BeneID'), on='BeneID')\n",
        "df_train_ip_all.columns"
      ],
      "metadata": {
        "colab": {
          "base_uri": "https://localhost:8080/"
        },
        "id": "v9W-R0JqKx5a",
        "outputId": "98bee038-5c36-47f5-f63d-b1181c36e7ef"
      },
      "execution_count": null,
      "outputs": [
        {
          "output_type": "execute_result",
          "data": {
            "text/plain": [
              "Index(['BeneID', 'ClaimID', 'ClaimStartDt', 'ClaimEndDt', 'Provider',\n",
              "       'InscClaimAmtReimbursed', 'AttendingPhysician', 'OperatingPhysician',\n",
              "       'AdmissionDt', 'ClmAdmitDiagnosisCode', 'DeductibleAmtPaid',\n",
              "       'DischargeDt', 'DiagnosisGroupCode', 'ClmDiagnosisCode_1',\n",
              "       'ClmDiagnosisCode_2', 'ClmDiagnosisCode_3', 'ClmDiagnosisCode_4',\n",
              "       'ClmDiagnosisCode_5', 'ClmDiagnosisCode_6', 'ClmDiagnosisCode_7',\n",
              "       'ClmDiagnosisCode_8', 'ClmDiagnosisCode_9', 'ClmProcedureCode_1',\n",
              "       'PotentialFraud', 'DOB', 'DOD', 'Gender', 'RenalDiseaseIndicator',\n",
              "       'ChronicCond_Alzheimer', 'ChronicCond_Heartfailure',\n",
              "       'ChronicCond_KidneyDisease', 'ChronicCond_Cancer',\n",
              "       'ChronicCond_ObstrPulmonary', 'ChronicCond_Depression',\n",
              "       'ChronicCond_Diabetes', 'ChronicCond_IschemicHeart',\n",
              "       'ChronicCond_Osteoporasis', 'ChronicCond_rheumatoidarthritis',\n",
              "       'ChronicCond_stroke', 'IPAnnualReimbursementAmt',\n",
              "       'IPAnnualDeductibleAmt', 'OPAnnualReimbursementAmt',\n",
              "       'OPAnnualDeductibleAmt', 'Age', 'has_claimed_ip'],\n",
              "      dtype='object')"
            ]
          },
          "metadata": {},
          "execution_count": 18
        }
      ]
    },
    {
      "cell_type": "code",
      "source": [
        "df_train_ip_frd = df_train_ip_all[df_train_ip_all['PotentialFraud'] == 'Yes']\n",
        "counts = df_train_ip_frd['PotentialFraud'].value_counts()\n",
        "\n",
        "# Calculate the percentage of each value in the 'PotentialFraud' column\n",
        "percentages = counts.values / len(df_train_ip_all) * 100\n",
        "\n",
        "# Create a figure and axes\n",
        "fig, ax = plt.subplots()\n",
        "\n",
        "# Create a bar chart with the data\n",
        "bars = ax.bar(counts.index, counts.values)\n",
        "\n",
        "# Set the title and axis labels\n",
        "ax.set_title('Number of Potential Fraud Cases for IP')\n",
        "ax.set_xlabel('Potential Fraud')\n",
        "ax.set_ylabel('Count')\n",
        "\n",
        "# Add percentage labels to the bars\n",
        "for bar, percentage in zip(bars, percentages):\n",
        "    ax.annotate(f'{percentage:.1f}%', xy=(bar.get_x() + bar.get_width() / 2, bar.get_height()),\n",
        "                xytext=(0, 3), textcoords='offset points', ha='center', va='bottom', fontsize=10)\n",
        "\n",
        "# Show the plot\n",
        "plt.show()"
      ],
      "metadata": {
        "colab": {
          "base_uri": "https://localhost:8080/",
          "height": 472
        },
        "outputId": "955abdce-fe2f-4493-c73c-bfa5fc52c8ae",
        "id": "fvkjE3uKWCjV"
      },
      "execution_count": null,
      "outputs": [
        {
          "output_type": "display_data",
          "data": {
            "text/plain": [
              "<Figure size 640x480 with 1 Axes>"
            ],
            "image/png": "[encoded data removed]"
          },
          "metadata": {}
        }
      ]
    },
    {
      "cell_type": "markdown",
      "source": [
        "Alzheimer"
      ],
      "metadata": {
        "id": "yRtwoAjHFNAw"
      }
    },
    {
      "cell_type": "code",
      "source": [
        "df_train_ip_Alz = df_train_ip_all[df_train_ip_all['ChronicCond_Alzheimer'] == 1]\n",
        "counts = df_train_ip_Alz['PotentialFraud'].value_counts()\n",
        "\n",
        "# Calculate the percentage of each value in the 'PotentialFraud' column\n",
        "percentages = counts.values / counts.sum() * 100\n",
        "\n",
        "# Create a figure and axes\n",
        "fig, ax = plt.subplots()\n",
        "\n",
        "# Create a bar chart with the data\n",
        "bars = ax.bar(counts.index, counts.values)\n",
        "\n",
        "# Set the title and axis labels\n",
        "ax.set_title('Number of Potential Fraud Cases for Alzheimer Patients')\n",
        "ax.set_xlabel('Potential Fraud')\n",
        "ax.set_ylabel('Count')\n",
        "\n",
        "# Add percentage labels to the bars\n",
        "for bar, percentage in zip(bars, percentages):\n",
        "    ax.annotate(f'{percentage:.1f}%', xy=(bar.get_x() + bar.get_width() / 2, bar.get_height()),\n",
        "                xytext=(0, 3), textcoords='offset points', ha='center', va='bottom', fontsize=10)\n",
        "\n",
        "# Show the plot\n",
        "plt.show()"
      ],
      "metadata": {
        "colab": {
          "base_uri": "https://localhost:8080/",
          "height": 472
        },
        "id": "mHZldGanOyLd",
        "outputId": "3f649393-e466-40ff-85c7-e89867acc7c9"
      },
      "execution_count": null,
      "outputs": [
        {
          "output_type": "display_data",
          "data": {
            "text/plain": [
              "<Figure size 640x480 with 1 Axes>"
            ],
            "image/png": "[encoded data removed]"
          },
          "metadata": {}
        }
      ]
    },
    {
      "cell_type": "markdown",
      "source": [
        "Heartfailure"
      ],
      "metadata": {
        "id": "Z9szFRooFHN-"
      }
    },
    {
      "cell_type": "code",
      "source": [
        "df_train_ip_hf = df_train_ip_all[df_train_ip_all['ChronicCond_Heartfailure'] == 1]\n",
        "\n",
        "counts = df_train_ip_hf['PotentialFraud'].value_counts()\n",
        "\n",
        "# Create a figure and axes\n",
        "fig, ax = plt.subplots()\n",
        "\n",
        "# Create a bar chart with the data\n",
        "ax.bar(counts.index, counts.values)\n",
        "\n",
        "# Set the title and axis labels\n",
        "ax.set_title('Number of Potential Fraud Cases for Heartfailure')\n",
        "ax.set_xlabel('Potential Fraud')\n",
        "ax.set_ylabel('Count')\n",
        "\n",
        "percentages = counts.values / counts.sum() * 100\n",
        "for bar, percentage in zip(bars, percentages):\n",
        "    ax.annotate(f'{percentage:.1f}%', xy=(bar.get_x() + bar.get_width() / 2, bar.get_height()),\n",
        "                xytext=(0, 3), textcoords='offset points', ha='center', va='bottom', fontsize=10)\n",
        "\n",
        "\n",
        "plt.show()"
      ],
      "metadata": {
        "colab": {
          "base_uri": "https://localhost:8080/",
          "height": 472
        },
        "id": "p1PvsHGLJSRj",
        "outputId": "70844df3-ce77-437a-e7cb-23b68ade61d2"
      },
      "execution_count": null,
      "outputs": [
        {
          "output_type": "display_data",
          "data": {
            "text/plain": [
              "<Figure size 640x480 with 1 Axes>"
            ],
            "image/png": "[encoded data removed]"
          },
          "metadata": {}
        }
      ]
    },
    {
      "cell_type": "markdown",
      "source": [
        "Kidney Disease"
      ],
      "metadata": {
        "id": "Eqh_BDKvw-k2"
      }
    },
    {
      "cell_type": "code",
      "source": [
        "df_train_ip_kd = df_train_ip_all[df_train_ip_all['ChronicCond_KidneyDisease'] == 1]\n",
        "\n",
        "counts = df_train_ip_kd['PotentialFraud'].value_counts()\n",
        "\n",
        "# Create a figure and axes\n",
        "fig, ax = plt.subplots()\n",
        "\n",
        "# Create a bar chart with the data\n",
        "ax.bar(counts.index, counts.values)\n",
        "\n",
        "# Set the title and axis labels\n",
        "ax.set_title('Number of Potential Fraud Cases for KidneyDisease')\n",
        "ax.set_xlabel('Potential Fraud')\n",
        "ax.set_ylabel('Count')\n",
        "\n",
        "percentages = counts.values / counts.sum() * 100\n",
        "for bar, percentage in zip(bars, percentages):\n",
        "    ax.annotate(f'{percentage:.1f}%', xy=(bar.get_x() + bar.get_width() / 2, bar.get_height()),\n",
        "                xytext=(0, 3), textcoords='offset points', ha='center', va='bottom', fontsize=10)\n",
        "\n",
        "plt.show()"
      ],
      "metadata": {
        "colab": {
          "base_uri": "https://localhost:8080/",
          "height": 472
        },
        "id": "qLEtkEbj5UAx",
        "outputId": "21a53042-b513-4308-acfd-00ef488a5068"
      },
      "execution_count": null,
      "outputs": [
        {
          "output_type": "display_data",
          "data": {
            "text/plain": [
              "<Figure size 640x480 with 1 Axes>"
            ],
            "image/png": "[encoded data removed]"
          },
          "metadata": {}
        }
      ]
    },
    {
      "cell_type": "markdown",
      "source": [
        "Cancer"
      ],
      "metadata": {
        "id": "VTP9_zqO0S8h"
      }
    },
    {
      "cell_type": "code",
      "source": [
        "df_train_ip_cn = df_train_ip_all[df_train_ip_all['ChronicCond_Cancer'] == 1]\n",
        "\n",
        "counts = df_train_ip_cn['PotentialFraud'].value_counts()\n",
        "\n",
        "# Create a figure and axes\n",
        "fig, ax = plt.subplots()\n",
        "\n",
        "# Create a bar chart with the data\n",
        "ax.bar(counts.index, counts.values)\n",
        "\n",
        "# Set the title and axis labels\n",
        "ax.set_title('Number of Potential Fraud Cases for Cancer')\n",
        "ax.set_xlabel('Potential Fraud')\n",
        "ax.set_ylabel('Count')\n",
        "\n",
        "percentages = counts.values / counts.sum() * 100\n",
        "for bar, percentage in zip(bars, percentages):\n",
        "    ax.annotate(f'{percentage:.1f}%', xy=(bar.get_x() + bar.get_width() / 2, bar.get_height()),\n",
        "                xytext=(0, 3), textcoords='offset points', ha='center', va='bottom', fontsize=10)\n",
        "\n",
        "plt.show()"
      ],
      "metadata": {
        "colab": {
          "base_uri": "https://localhost:8080/",
          "height": 472
        },
        "id": "ir_RuJvu0R_S",
        "outputId": "ad5b9af5-ad00-4d80-d404-c5ee69422744"
      },
      "execution_count": null,
      "outputs": [
        {
          "output_type": "display_data",
          "data": {
            "text/plain": [
              "<Figure size 640x480 with 1 Axes>"
            ],
            "image/png": "[encoded data removed]"
          },
          "metadata": {}
        }
      ]
    },
    {
      "cell_type": "markdown",
      "source": [
        "Obstr Pulmonary"
      ],
      "metadata": {
        "id": "tJoKWUTE_WsK"
      }
    },
    {
      "cell_type": "code",
      "source": [
        "\n",
        "df_train_ip_op = df_train_ip_all[df_train_ip_all['ChronicCond_ObstrPulmonary'] == 1]\n",
        "\n",
        "counts = df_train_ip_op['PotentialFraud'].value_counts()\n",
        "\n",
        "# Create a figure and axes\n",
        "fig, ax = plt.subplots()\n",
        "\n",
        "# Create a bar chart with the data\n",
        "ax.bar(counts.index, counts.values)\n",
        "\n",
        "# Set the title and axis labels\n",
        "ax.set_title('Number of Potential Fraud Cases for Obstr Pulmonary')\n",
        "ax.set_xlabel('Potential Fraud')\n",
        "ax.set_ylabel('Count')\n",
        "\n",
        "percentages = counts.values / counts.sum() * 100\n",
        "for bar, percentage in zip(bars, percentages):\n",
        "    ax.annotate(f'{percentage:.1f}%', xy=(bar.get_x() + bar.get_width() / 2, bar.get_height()),\n",
        "                xytext=(0, 3), textcoords='offset points', ha='center', va='bottom', fontsize=10)\n",
        "\n",
        "plt.show()"
      ],
      "metadata": {
        "colab": {
          "base_uri": "https://localhost:8080/",
          "height": 472
        },
        "id": "VNRMnxjd_fHy",
        "outputId": "e7ee61e2-0b49-4021-c121-d8bb7e49e400"
      },
      "execution_count": null,
      "outputs": [
        {
          "output_type": "display_data",
          "data": {
            "text/plain": [
              "<Figure size 640x480 with 1 Axes>"
            ],
            "image/png": "[encoded data removed]"
          },
          "metadata": {}
        }
      ]
    },
    {
      "cell_type": "markdown",
      "source": [
        "Depression"
      ],
      "metadata": {
        "id": "7v-KzWRfABTh"
      }
    },
    {
      "cell_type": "code",
      "source": [
        "df_train_ip_dp = df_train_ip_all[df_train_ip_all['ChronicCond_Depression'] == 1]\n",
        "\n",
        "counts = df_train_ip_dp['PotentialFraud'].value_counts()\n",
        "\n",
        "# Create a figure and axes\n",
        "fig, ax = plt.subplots()\n",
        "\n",
        "# Create a bar chart with the data\n",
        "ax.bar(counts.index, counts.values)\n",
        "\n",
        "# Set the title and axis labels\n",
        "ax.set_title('Number of Potential Fraud Cases for Depression')\n",
        "ax.set_xlabel('Potential Fraud')\n",
        "ax.set_ylabel('Count')\n",
        "\n",
        "percentages = counts.values / counts.sum() * 100\n",
        "for bar, percentage in zip(bars, percentages):\n",
        "    ax.annotate(f'{percentage:.1f}%', xy=(bar.get_x() + bar.get_width() / 2, bar.get_height()),\n",
        "                xytext=(0, 3), textcoords='offset points', ha='center', va='bottom', fontsize=10)\n",
        "\n",
        "plt.show()"
      ],
      "metadata": {
        "colab": {
          "base_uri": "https://localhost:8080/",
          "height": 472
        },
        "outputId": "497467e1-3f60-4ccb-b6fb-a828183e2b6c",
        "id": "mk-CfiI_Cp-0"
      },
      "execution_count": null,
      "outputs": [
        {
          "output_type": "display_data",
          "data": {
            "text/plain": [
              "<Figure size 640x480 with 1 Axes>"
            ],
            "image/png": "[encoded data removed]"
          },
          "metadata": {}
        }
      ]
    },
    {
      "cell_type": "markdown",
      "source": [
        "Diadetes"
      ],
      "metadata": {
        "id": "4D6vBbU8C-4N"
      }
    },
    {
      "cell_type": "code",
      "source": [
        "df_train_ip_di = df_train_ip_all[df_train_ip_all['ChronicCond_Diabetes'] == 1]\n",
        "\n",
        "counts = df_train_ip_di['PotentialFraud'].value_counts()\n",
        "\n",
        "# Create a figure and axes\n",
        "fig, ax = plt.subplots()\n",
        "\n",
        "# Create a bar chart with the data\n",
        "ax.bar(counts.index, counts.values)\n",
        "\n",
        "# Set the title and axis labels\n",
        "ax.set_title('Number of Potential Fraud Cases for Diabetes')\n",
        "ax.set_xlabel('Potential Fraud')\n",
        "ax.set_ylabel('Count')\n",
        "\n",
        "percentages = counts.values / counts.sum() * 100\n",
        "for bar, percentage in zip(bars, percentages):\n",
        "    ax.annotate(f'{percentage:.1f}%', xy=(bar.get_x() + bar.get_width() / 2, bar.get_height()),\n",
        "                xytext=(0, 3), textcoords='offset points', ha='center', va='bottom', fontsize=10)\n",
        "\n",
        "plt.show()"
      ],
      "metadata": {
        "colab": {
          "base_uri": "https://localhost:8080/",
          "height": 472
        },
        "outputId": "1e61f949-14ea-4cb1-abef-e114d837776d",
        "id": "yIU2wstHC9HK"
      },
      "execution_count": null,
      "outputs": [
        {
          "output_type": "display_data",
          "data": {
            "text/plain": [
              "<Figure size 640x480 with 1 Axes>"
            ],
            "image/png": "[encoded data removed]"
          },
          "metadata": {}
        }
      ]
    },
    {
      "cell_type": "markdown",
      "source": [
        "Ischemic Heart"
      ],
      "metadata": {
        "id": "yzchYjOpDPB1"
      }
    },
    {
      "cell_type": "code",
      "source": [
        "df_train_ip_ih = df_train_ip_all[df_train_ip_all['ChronicCond_IschemicHeart'] == 1]\n",
        "\n",
        "counts = df_train_ip_ih['PotentialFraud'].value_counts()\n",
        "\n",
        "# Create a figure and axes\n",
        "fig, ax = plt.subplots()\n",
        "\n",
        "# Create a bar chart with the data\n",
        "ax.bar(counts.index, counts.values)\n",
        "\n",
        "# Set the title and axis labels\n",
        "ax.set_title('Number of Potential Fraud Cases for IschemicHear')\n",
        "ax.set_xlabel('Potential Fraud')\n",
        "ax.set_ylabel('Count')\n",
        "\n",
        "percentages = counts.values / counts.sum() * 100\n",
        "for bar, percentage in zip(bars, percentages):\n",
        "    ax.annotate(f'{percentage:.1f}%', xy=(bar.get_x() + bar.get_width() / 2, bar.get_height()),\n",
        "                xytext=(0, 3), textcoords='offset points', ha='center', va='bottom', fontsize=10)\n",
        "\n",
        "plt.show()"
      ],
      "metadata": {
        "colab": {
          "base_uri": "https://localhost:8080/",
          "height": 472
        },
        "outputId": "e3121232-2061-4258-a068-72418b90f505",
        "id": "GtjmaTIgDX4K"
      },
      "execution_count": null,
      "outputs": [
        {
          "output_type": "display_data",
          "data": {
            "text/plain": [
              "<Figure size 640x480 with 1 Axes>"
            ],
            "image/png": "[encoded data removed]"
          },
          "metadata": {}
        }
      ]
    },
    {
      "cell_type": "markdown",
      "source": [
        "Osteoporasis"
      ],
      "metadata": {
        "id": "3olFTKbsEcJf"
      }
    },
    {
      "cell_type": "code",
      "source": [
        "df_train_ip_os = df_train_ip_all[df_train_ip_all['ChronicCond_Osteoporasis'] == 1]\n",
        "\n",
        "counts = df_train_ip_os['PotentialFraud'].value_counts()\n",
        "\n",
        "# Create a figure and axes\n",
        "fig, ax = plt.subplots()\n",
        "\n",
        "# Create a bar chart with the data\n",
        "ax.bar(counts.index, counts.values)\n",
        "\n",
        "# Set the title and axis labels\n",
        "ax.set_title('Number of Potential Fraud Cases for Osteoporasis')\n",
        "ax.set_xlabel('Potential Fraud')\n",
        "ax.set_ylabel('Count')\n",
        "\n",
        "percentages = counts.values / counts.sum() * 100\n",
        "for bar, percentage in zip(bars, percentages):\n",
        "    ax.annotate(f'{percentage:.1f}%', xy=(bar.get_x() + bar.get_width() / 2, bar.get_height()),\n",
        "                xytext=(0, 3), textcoords='offset points', ha='center', va='bottom', fontsize=10)\n",
        "\n",
        "plt.show()"
      ],
      "metadata": {
        "colab": {
          "base_uri": "https://localhost:8080/",
          "height": 472
        },
        "outputId": "42ceab98-c886-4610-ab2b-bf38dddac3b4",
        "id": "3cpl1VwdEkZm"
      },
      "execution_count": null,
      "outputs": [
        {
          "output_type": "display_data",
          "data": {
            "text/plain": [
              "<Figure size 640x480 with 1 Axes>"
            ],
            "image/png": "[encoded data removed]"
          },
          "metadata": {}
        }
      ]
    },
    {
      "cell_type": "markdown",
      "source": [
        "Rheumatoidarthritis"
      ],
      "metadata": {
        "id": "aoefMs2zJqZg"
      }
    },
    {
      "cell_type": "code",
      "source": [
        "df_train_ip_rh = df_train_ip_all[df_train_ip_all['ChronicCond_rheumatoidarthritis'] == 1]\n",
        "\n",
        "counts = df_train_ip_rh['PotentialFraud'].value_counts()\n",
        "\n",
        "# Create a figure and axes\n",
        "fig, ax = plt.subplots()\n",
        "\n",
        "# Create a bar chart with the data\n",
        "ax.bar(counts.index, counts.values)\n",
        "\n",
        "# Set the title and axis labels\n",
        "ax.set_title('Number of Potential Fraud Cases for Rheumatoidarthritis')\n",
        "ax.set_xlabel('Potential Fraud')\n",
        "ax.set_ylabel('Count')\n",
        "\n",
        "percentages = counts.values / counts.sum() * 100\n",
        "for bar, percentage in zip(bars, percentages):\n",
        "    ax.annotate(f'{percentage:.1f}%', xy=(bar.get_x() + bar.get_width() / 2, bar.get_height()),\n",
        "                xytext=(0, 3), textcoords='offset points', ha='center', va='bottom', fontsize=10)\n",
        "\n",
        "plt.show()"
      ],
      "metadata": {
        "colab": {
          "base_uri": "https://localhost:8080/",
          "height": 472
        },
        "outputId": "f29d3689-8189-42a7-fdd6-afca44f36825",
        "id": "NkLiP8QeJw6u"
      },
      "execution_count": null,
      "outputs": [
        {
          "output_type": "display_data",
          "data": {
            "text/plain": [
              "<Figure size 640x480 with 1 Axes>"
            ],
            "image/png": "[encoded data removed]"
          },
          "metadata": {}
        }
      ]
    },
    {
      "cell_type": "markdown",
      "source": [
        "Stroke"
      ],
      "metadata": {
        "id": "rL-0SNMnOWTy"
      }
    },
    {
      "cell_type": "code",
      "source": [
        "df_train_ip_st = df_train_ip_all[df_train_ip_all['ChronicCond_stroke'] == 1]\n",
        "\n",
        "counts = df_train_ip_st['PotentialFraud'].value_counts()\n",
        "\n",
        "# Create a figure and axes\n",
        "fig, ax = plt.subplots()\n",
        "\n",
        "# Create a bar chart with the data\n",
        "ax.bar(counts.index, counts.values)\n",
        "\n",
        "# Set the title and axis labels\n",
        "ax.set_title('Number of Potential Fraud Cases for Stroke')\n",
        "ax.set_xlabel('Potential Fraud')\n",
        "ax.set_ylabel('Count')\n",
        "\n",
        "percentages = counts.values / counts.sum() * 100\n",
        "for bar, percentage in zip(bars, percentages):\n",
        "    ax.annotate(f'{percentage:.1f}%', xy=(bar.get_x() + bar.get_width() / 2, bar.get_height()),\n",
        "                xytext=(0, 3), textcoords='offset points', ha='center', va='bottom', fontsize=10)\n",
        "\n",
        "plt.show()"
      ],
      "metadata": {
        "colab": {
          "base_uri": "https://localhost:8080/",
          "height": 472
        },
        "outputId": "7d9fe529-5439-40e9-cef6-724cb2b4077f",
        "id": "TEtLurpmOcnt"
      },
      "execution_count": null,
      "outputs": [
        {
          "output_type": "display_data",
          "data": {
            "text/plain": [
              "<Figure size 640x480 with 1 Axes>"
            ],
            "image/png": "[encoded data removed]"
          },
          "metadata": {}
        }
      ]
    },
    {
      "cell_type": "markdown",
      "source": [
        "Outpatient\n",
        "1. count(*), count(distinct BeneID), count(distinct ClaimID)-- 517737; 133980; 517737\n",
        "2. 189394 fraud 36%\n",
        "3. drop (OperatingPhysician), OtherPhysician, ClmDiagnosisCode_2-10, ClmProcedureCode all, ClmAdmitDiagnosisCode"
      ],
      "metadata": {
        "id": "vCrlDrghO97i"
      }
    },
    {
      "cell_type": "code",
      "source": [
        "df_train_op.shape"
      ],
      "metadata": {
        "colab": {
          "base_uri": "https://localhost:8080/"
        },
        "id": "TSCx67LmPAmV",
        "outputId": "d1ae2036-4842-46ce-febd-610b386aaba2"
      },
      "execution_count": null,
      "outputs": [
        {
          "output_type": "execute_result",
          "data": {
            "text/plain": [
              "(517737, 27)"
            ]
          },
          "metadata": {},
          "execution_count": 39
        }
      ]
    },
    {
      "cell_type": "code",
      "source": [
        "df_train_opC1 = df_train_op.drop(columns=['OtherPhysician','ClmDiagnosisCode_10','ClmProcedureCode_2', 'ClmProcedureCode_3', 'ClmProcedureCode_4', 'ClmProcedureCode_5','ClmProcedureCode_6'])"
      ],
      "metadata": {
        "id": "biICpyFhPy8e"
      },
      "execution_count": null,
      "outputs": []
    },
    {
      "cell_type": "code",
      "source": [
        "df_train_opC1['AttendingPhysician'] = df_train_opC1['AttendingPhysician'].fillna(\"None\")\n",
        "df_train_opC1['OperatingPhysician'] = df_train_opC1['OperatingPhysician'].fillna(\"None\")\n",
        "df_train_opC1 =df_train_opC1.fillna(0)"
      ],
      "metadata": {
        "id": "8_z7Rv4_QIv1"
      },
      "execution_count": null,
      "outputs": []
    },
    {
      "cell_type": "code",
      "source": [
        "# How many beneficiary claimed op\n",
        "df_train_benC[\"has_claimed_op\"] = df_train_benC[\"BeneID\"].isin(df_train_opC1[\"BeneID\"])\n",
        "claimed_op = df_train_benC[\"has_claimed_op\"].sum()\n",
        "percentage_claimed_op = np.round((claimed_op/len(df_train_benC)) * 100, 2)\n",
        "print(f\"Percentage of beneficiaries who have claimed OP claim: {percentage_claimed_op}%\")\n"
      ],
      "metadata": {
        "colab": {
          "base_uri": "https://localhost:8080/"
        },
        "id": "d4IrPpJBQzBQ",
        "outputId": "8fd7463c-2bba-44ec-9f6a-544204147374"
      },
      "execution_count": null,
      "outputs": [
        {
          "output_type": "stream",
          "name": "stdout",
          "text": [
            "Percentage of beneficiaries who have claimed OP claim: 96.7%\n"
          ]
        }
      ]
    },
    {
      "cell_type": "code",
      "source": [
        "df_train_op_all = df_train_opC1.join(df_train_prov.set_index('Provider'), on='Provider')\n",
        "df_train_op_all.head()"
      ],
      "metadata": {
        "colab": {
          "base_uri": "https://localhost:8080/",
          "height": 300
        },
        "id": "kkk-WFxLVawg",
        "outputId": "9e66b457-4817-46aa-afbc-d43fde8d736a"
      },
      "execution_count": null,
      "outputs": [
        {
          "output_type": "execute_result",
          "data": {
            "text/plain": [
              "      BeneID    ClaimID ClaimStartDt  ClaimEndDt  Provider  \\\n",
              "0  BENE11002  CLM624349   2009-10-11  2009-10-11  PRV56011   \n",
              "1  BENE11003  CLM189947   2009-02-12  2009-02-12  PRV57610   \n",
              "2  BENE11003  CLM438021   2009-06-27  2009-06-27  PRV57595   \n",
              "3  BENE11004  CLM121801   2009-01-06  2009-01-06  PRV56011   \n",
              "4  BENE11004  CLM150998   2009-01-22  2009-01-22  PRV56011   \n",
              "\n",
              "   InscClaimAmtReimbursed AttendingPhysician OperatingPhysician  \\\n",
              "0                      30          PHY326117               None   \n",
              "1                      80          PHY362868               None   \n",
              "2                      10          PHY328821               None   \n",
              "3                      40          PHY334319               None   \n",
              "4                     200          PHY403831               None   \n",
              "\n",
              "  ClmDiagnosisCode_1 ClmDiagnosisCode_2  ... ClmDiagnosisCode_4  \\\n",
              "0              78943              V5866  ...                  0   \n",
              "1               6115                  0  ...                  0   \n",
              "2               2723                  0  ...                  0   \n",
              "3              71988                  0  ...                  0   \n",
              "4              82382              30000  ...               4280   \n",
              "\n",
              "  ClmDiagnosisCode_5 ClmDiagnosisCode_6 ClmDiagnosisCode_7 ClmDiagnosisCode_8  \\\n",
              "0                  0                  0                  0                  0   \n",
              "1                  0                  0                  0                  0   \n",
              "2                  0                  0                  0                  0   \n",
              "3                  0                  0                  0                  0   \n",
              "4               7197              V4577                  0                  0   \n",
              "\n",
              "  ClmDiagnosisCode_9 ClmProcedureCode_1  DeductibleAmtPaid  \\\n",
              "0                  0                0.0                  0   \n",
              "1                  0                0.0                  0   \n",
              "2                  0                0.0                  0   \n",
              "3                  0                0.0                  0   \n",
              "4                  0                0.0                  0   \n",
              "\n",
              "   ClmAdmitDiagnosisCode PotentialFraud  \n",
              "0                  56409            Yes  \n",
              "1                  79380             No  \n",
              "2                      0             No  \n",
              "3                      0            Yes  \n",
              "4                  71947            Yes  \n",
              "\n",
              "[5 rows x 21 columns]"
            ],
            "text/html": [
              "\n",
              "  <div id=\"df-e52d8d85-800f-4508-878b-0ee1276b3dec\">\n",
              "    <div class=\"colab-df-container\">\n",
              "      <div>\n",
              "<style scoped>\n",
              "    .dataframe tbody tr th:only-of-type {\n",
              "        vertical-align: middle;\n",
              "    }\n",
              "\n",
              "    .dataframe tbody tr th {\n",
              "        vertical-align: top;\n",
              "    }\n",
              "\n",
              "    .dataframe thead th {\n",
              "        text-align: right;\n",
              "    }\n",
              "</style>\n",
              "<table border=\"1\" class=\"dataframe\">\n",
              "  <thead>\n",
              "    <tr style=\"text-align: right;\">\n",
              "      <th></th>\n",
              "      <th>BeneID</th>\n",
              "      <th>ClaimID</th>\n",
              "      <th>ClaimStartDt</th>\n",
              "      <th>ClaimEndDt</th>\n",
              "      <th>Provider</th>\n",
              "      <th>InscClaimAmtReimbursed</th>\n",
              "      <th>AttendingPhysician</th>\n",
              "      <th>OperatingPhysician</th>\n",
              "      <th>ClmDiagnosisCode_1</th>\n",
              "      <th>ClmDiagnosisCode_2</th>\n",
              "      <th>...</th>\n",
              "      <th>ClmDiagnosisCode_4</th>\n",
              "      <th>ClmDiagnosisCode_5</th>\n",
              "      <th>ClmDiagnosisCode_6</th>\n",
              "      <th>ClmDiagnosisCode_7</th>\n",
              "      <th>ClmDiagnosisCode_8</th>\n",
              "      <th>ClmDiagnosisCode_9</th>\n",
              "      <th>ClmProcedureCode_1</th>\n",
              "      <th>DeductibleAmtPaid</th>\n",
              "      <th>ClmAdmitDiagnosisCode</th>\n",
              "      <th>PotentialFraud</th>\n",
              "    </tr>\n",
              "  </thead>\n",
              "  <tbody>\n",
              "    <tr>\n",
              "      <th>0</th>\n",
              "      <td>BENE11002</td>\n",
              "      <td>CLM624349</td>\n",
              "      <td>2009-10-11</td>\n",
              "      <td>2009-10-11</td>\n",
              "      <td>PRV56011</td>\n",
              "      <td>30</td>\n",
              "      <td>PHY326117</td>\n",
              "      <td>None</td>\n",
              "      <td>78943</td>\n",
              "      <td>V5866</td>\n",
              "      <td>...</td>\n",
              "      <td>0</td>\n",
              "      <td>0</td>\n",
              "      <td>0</td>\n",
              "      <td>0</td>\n",
              "      <td>0</td>\n",
              "      <td>0</td>\n",
              "      <td>0.0</td>\n",
              "      <td>0</td>\n",
              "      <td>56409</td>\n",
              "      <td>Yes</td>\n",
              "    </tr>\n",
              "    <tr>\n",
              "      <th>1</th>\n",
              "      <td>BENE11003</td>\n",
              "      <td>CLM189947</td>\n",
              "      <td>2009-02-12</td>\n",
              "      <td>2009-02-12</td>\n",
              "      <td>PRV57610</td>\n",
              "      <td>80</td>\n",
              "      <td>PHY362868</td>\n",
              "      <td>None</td>\n",
              "      <td>6115</td>\n",
              "      <td>0</td>\n",
              "      <td>...</td>\n",
              "      <td>0</td>\n",
              "      <td>0</td>\n",
              "      <td>0</td>\n",
              "      <td>0</td>\n",
              "      <td>0</td>\n",
              "      <td>0</td>\n",
              "      <td>0.0</td>\n",
              "      <td>0</td>\n",
              "      <td>79380</td>\n",
              "      <td>No</td>\n",
              "    </tr>\n",
              "    <tr>\n",
              "      <th>2</th>\n",
              "      <td>BENE11003</td>\n",
              "      <td>CLM438021</td>\n",
              "      <td>2009-06-27</td>\n",
              "      <td>2009-06-27</td>\n",
              "      <td>PRV57595</td>\n",
              "      <td>10</td>\n",
              "      <td>PHY328821</td>\n",
              "      <td>None</td>\n",
              "      <td>2723</td>\n",
              "      <td>0</td>\n",
              "      <td>...</td>\n",
              "      <td>0</td>\n",
              "      <td>0</td>\n",
              "      <td>0</td>\n",
              "      <td>0</td>\n",
              "      <td>0</td>\n",
              "      <td>0</td>\n",
              "      <td>0.0</td>\n",
              "      <td>0</td>\n",
              "      <td>0</td>\n",
              "      <td>No</td>\n",
              "    </tr>\n",
              "    <tr>\n",
              "      <th>3</th>\n",
              "      <td>BENE11004</td>\n",
              "      <td>CLM121801</td>\n",
              "      <td>2009-01-06</td>\n",
              "      <td>2009-01-06</td>\n",
              "      <td>PRV56011</td>\n",
              "      <td>40</td>\n",
              "      <td>PHY334319</td>\n",
              "      <td>None</td>\n",
              "      <td>71988</td>\n",
              "      <td>0</td>\n",
              "      <td>...</td>\n",
              "      <td>0</td>\n",
              "      <td>0</td>\n",
              "      <td>0</td>\n",
              "      <td>0</td>\n",
              "      <td>0</td>\n",
              "      <td>0</td>\n",
              "      <td>0.0</td>\n",
              "      <td>0</td>\n",
              "      <td>0</td>\n",
              "      <td>Yes</td>\n",
              "    </tr>\n",
              "    <tr>\n",
              "      <th>4</th>\n",
              "      <td>BENE11004</td>\n",
              "      <td>CLM150998</td>\n",
              "      <td>2009-01-22</td>\n",
              "      <td>2009-01-22</td>\n",
              "      <td>PRV56011</td>\n",
              "      <td>200</td>\n",
              "      <td>PHY403831</td>\n",
              "      <td>None</td>\n",
              "      <td>82382</td>\n",
              "      <td>30000</td>\n",
              "      <td>...</td>\n",
              "      <td>4280</td>\n",
              "      <td>7197</td>\n",
              "      <td>V4577</td>\n",
              "      <td>0</td>\n",
              "      <td>0</td>\n",
              "      <td>0</td>\n",
              "      <td>0.0</td>\n",
              "      <td>0</td>\n",
              "      <td>71947</td>\n",
              "      <td>Yes</td>\n",
              "    </tr>\n",
              "  </tbody>\n",
              "</table>\n",
              "<p>5 rows × 21 columns</p>\n",
              "</div>\n",
              "      <button class=\"colab-df-convert\" onclick=\"convertToInteractive('df-e52d8d85-800f-4508-878b-0ee1276b3dec')\"\n",
              "              title=\"Convert this dataframe to an interactive table.\"\n",
              "              style=\"display:none;\">\n",
              "        \n",
              "  <svg xmlns=\"http://www.w3.org/2000/svg\" height=\"24px\"viewBox=\"0 0 24 24\"\n",
              "       width=\"24px\">\n",
              "    <path d=\"M0 0h24v24H0V0z\" fill=\"none\"/>\n",
              "    <path d=\"M18.56 5.44l.94 2.06.94-2.06 2.06-.94-2.06-.94-.94-2.06-.94 2.06-2.06.94zm-11 1L8.5 8.5l.94-2.06 2.06-.94-2.06-.94L8.5 2.5l-.94 2.06-2.06.94zm10 10l.94 2.06.94-2.06 2.06-.94-2.06-.94-.94-2.06-.94 2.06-2.06.94z\"/><path d=\"M17.41 7.96l-1.37-1.37c-.4-.4-.92-.59-1.43-.59-.52 0-1.04.2-1.43.59L10.3 9.45l-7.72 7.72c-.78.78-.78 2.05 0 2.83L4 21.41c.39.39.9.59 1.41.59.51 0 1.02-.2 1.41-.59l7.78-7.78 2.81-2.81c.8-.78.8-2.07 0-2.86zM5.41 20L4 18.59l7.72-7.72 1.47 1.35L5.41 20z\"/>\n",
              "  </svg>\n",
              "      </button>\n",
              "      \n",
              "  <style>\n",
              "    .colab-df-container {\n",
              "      display:flex;\n",
              "      flex-wrap:wrap;\n",
              "      gap: 12px;\n",
              "    }\n",
              "\n",
              "    .colab-df-convert {\n",
              "      background-color: #E8F0FE;\n",
              "      border: none;\n",
              "      border-radius: 50%;\n",
              "      cursor: pointer;\n",
              "      display: none;\n",
              "      fill: #1967D2;\n",
              "      height: 32px;\n",
              "      padding: 0 0 0 0;\n",
              "      width: 32px;\n",
              "    }\n",
              "\n",
              "    .colab-df-convert:hover {\n",
              "      background-color: #E2EBFA;\n",
              "      box-shadow: 0px 1px 2px rgba(60, 64, 67, 0.3), 0px 1px 3px 1px rgba(60, 64, 67, 0.15);\n",
              "      fill: #174EA6;\n",
              "    }\n",
              "\n",
              "    [theme=dark] .colab-df-convert {\n",
              "      background-color: #3B4455;\n",
              "      fill: #D2E3FC;\n",
              "    }\n",
              "\n",
              "    [theme=dark] .colab-df-convert:hover {\n",
              "      background-color: #434B5C;\n",
              "      box-shadow: 0px 1px 3px 1px rgba(0, 0, 0, 0.15);\n",
              "      filter: drop-shadow(0px 1px 2px rgba(0, 0, 0, 0.3));\n",
              "      fill: #FFFFFF;\n",
              "    }\n",
              "  </style>\n",
              "\n",
              "      <script>\n",
              "        const buttonEl =\n",
              "          document.querySelector('#df-e52d8d85-800f-4508-878b-0ee1276b3dec button.colab-df-convert');\n",
              "        buttonEl.style.display =\n",
              "          google.colab.kernel.accessAllowed ? 'block' : 'none';\n",
              "\n",
              "        async function convertToInteractive(key) {\n",
              "          const element = document.querySelector('#df-e52d8d85-800f-4508-878b-0ee1276b3dec');\n",
              "          const dataTable =\n",
              "            await google.colab.kernel.invokeFunction('convertToInteractive',\n",
              "                                                     [key], {});\n",
              "          if (!dataTable) return;\n",
              "\n",
              "          const docLinkHtml = 'Like what you see? Visit the ' +\n",
              "            '<a target=\"_blank\" href=https://colab.research.google.com/notebooks/data_table.ipynb>data table notebook</a>'\n",
              "            + ' to learn more about interactive tables.';\n",
              "          element.innerHTML = '';\n",
              "          dataTable['output_type'] = 'display_data';\n",
              "          await google.colab.output.renderOutput(dataTable, element);\n",
              "          const docLink = document.createElement('div');\n",
              "          docLink.innerHTML = docLinkHtml;\n",
              "          element.appendChild(docLink);\n",
              "        }\n",
              "      </script>\n",
              "    </div>\n",
              "  </div>\n",
              "  "
            ]
          },
          "metadata": {},
          "execution_count": 48
        }
      ]
    },
    {
      "cell_type": "code",
      "source": [
        "df_train_op_all = df_train_op_all.join(df_train_benC.set_index('BeneID'), on='BeneID')\n",
        "df_train_op_all.head()"
      ],
      "metadata": {
        "colab": {
          "base_uri": "https://localhost:8080/",
          "height": 300
        },
        "id": "-Vg0VNioXDiz",
        "outputId": "74ce76c1-2892-4d6d-e36e-59bfa572310b"
      },
      "execution_count": null,
      "outputs": [
        {
          "output_type": "execute_result",
          "data": {
            "text/plain": [
              "      BeneID    ClaimID ClaimStartDt  ClaimEndDt  Provider  \\\n",
              "0  BENE11002  CLM624349   2009-10-11  2009-10-11  PRV56011   \n",
              "1  BENE11003  CLM189947   2009-02-12  2009-02-12  PRV57610   \n",
              "2  BENE11003  CLM438021   2009-06-27  2009-06-27  PRV57595   \n",
              "3  BENE11004  CLM121801   2009-01-06  2009-01-06  PRV56011   \n",
              "4  BENE11004  CLM150998   2009-01-22  2009-01-22  PRV56011   \n",
              "\n",
              "   InscClaimAmtReimbursed AttendingPhysician OperatingPhysician  \\\n",
              "0                      30          PHY326117               None   \n",
              "1                      80          PHY362868               None   \n",
              "2                      10          PHY328821               None   \n",
              "3                      40          PHY334319               None   \n",
              "4                     200          PHY403831               None   \n",
              "\n",
              "  ClmDiagnosisCode_1 ClmDiagnosisCode_2  ... ChronicCond_Osteoporasis  \\\n",
              "0              78943              V5866  ...                        2   \n",
              "1               6115                  0  ...                        2   \n",
              "2               2723                  0  ...                        2   \n",
              "3              71988                  0  ...                        1   \n",
              "4              82382              30000  ...                        1   \n",
              "\n",
              "  ChronicCond_rheumatoidarthritis ChronicCond_stroke IPAnnualReimbursementAmt  \\\n",
              "0                               2                  2                        0   \n",
              "1                               2                  2                        0   \n",
              "2                               2                  2                        0   \n",
              "3                               1                  2                        0   \n",
              "4                               1                  2                        0   \n",
              "\n",
              "  IPAnnualDeductibleAmt OPAnnualReimbursementAmt OPAnnualDeductibleAmt  Age  \\\n",
              "0                     0                       30                    50   73   \n",
              "1                     0                       90                    40   73   \n",
              "2                     0                       90                    40   73   \n",
              "3                     0                     1810                   760   87   \n",
              "4                     0                     1810                   760   87   \n",
              "\n",
              "   has_claimed_ip has_claimed_op  \n",
              "0           False           True  \n",
              "1           False           True  \n",
              "2           False           True  \n",
              "3           False           True  \n",
              "4           False           True  \n",
              "\n",
              "[5 rows x 43 columns]"
            ],
            "text/html": [
              "\n",
              "  <div id=\"df-84d9f7dc-d3eb-466c-a847-823489813f1b\">\n",
              "    <div class=\"colab-df-container\">\n",
              "      <div>\n",
              "<style scoped>\n",
              "    .dataframe tbody tr th:only-of-type {\n",
              "        vertical-align: middle;\n",
              "    }\n",
              "\n",
              "    .dataframe tbody tr th {\n",
              "        vertical-align: top;\n",
              "    }\n",
              "\n",
              "    .dataframe thead th {\n",
              "        text-align: right;\n",
              "    }\n",
              "</style>\n",
              "<table border=\"1\" class=\"dataframe\">\n",
              "  <thead>\n",
              "    <tr style=\"text-align: right;\">\n",
              "      <th></th>\n",
              "      <th>BeneID</th>\n",
              "      <th>ClaimID</th>\n",
              "      <th>ClaimStartDt</th>\n",
              "      <th>ClaimEndDt</th>\n",
              "      <th>Provider</th>\n",
              "      <th>InscClaimAmtReimbursed</th>\n",
              "      <th>AttendingPhysician</th>\n",
              "      <th>OperatingPhysician</th>\n",
              "      <th>ClmDiagnosisCode_1</th>\n",
              "      <th>ClmDiagnosisCode_2</th>\n",
              "      <th>...</th>\n",
              "      <th>ChronicCond_Osteoporasis</th>\n",
              "      <th>ChronicCond_rheumatoidarthritis</th>\n",
              "      <th>ChronicCond_stroke</th>\n",
              "      <th>IPAnnualReimbursementAmt</th>\n",
              "      <th>IPAnnualDeductibleAmt</th>\n",
              "      <th>OPAnnualReimbursementAmt</th>\n",
              "      <th>OPAnnualDeductibleAmt</th>\n",
              "      <th>Age</th>\n",
              "      <th>has_claimed_ip</th>\n",
              "      <th>has_claimed_op</th>\n",
              "    </tr>\n",
              "  </thead>\n",
              "  <tbody>\n",
              "    <tr>\n",
              "      <th>0</th>\n",
              "      <td>BENE11002</td>\n",
              "      <td>CLM624349</td>\n",
              "      <td>2009-10-11</td>\n",
              "      <td>2009-10-11</td>\n",
              "      <td>PRV56011</td>\n",
              "      <td>30</td>\n",
              "      <td>PHY326117</td>\n",
              "      <td>None</td>\n",
              "      <td>78943</td>\n",
              "      <td>V5866</td>\n",
              "      <td>...</td>\n",
              "      <td>2</td>\n",
              "      <td>2</td>\n",
              "      <td>2</td>\n",
              "      <td>0</td>\n",
              "      <td>0</td>\n",
              "      <td>30</td>\n",
              "      <td>50</td>\n",
              "      <td>73</td>\n",
              "      <td>False</td>\n",
              "      <td>True</td>\n",
              "    </tr>\n",
              "    <tr>\n",
              "      <th>1</th>\n",
              "      <td>BENE11003</td>\n",
              "      <td>CLM189947</td>\n",
              "      <td>2009-02-12</td>\n",
              "      <td>2009-02-12</td>\n",
              "      <td>PRV57610</td>\n",
              "      <td>80</td>\n",
              "      <td>PHY362868</td>\n",
              "      <td>None</td>\n",
              "      <td>6115</td>\n",
              "      <td>0</td>\n",
              "      <td>...</td>\n",
              "      <td>2</td>\n",
              "      <td>2</td>\n",
              "      <td>2</td>\n",
              "      <td>0</td>\n",
              "      <td>0</td>\n",
              "      <td>90</td>\n",
              "      <td>40</td>\n",
              "      <td>73</td>\n",
              "      <td>False</td>\n",
              "      <td>True</td>\n",
              "    </tr>\n",
              "    <tr>\n",
              "      <th>2</th>\n",
              "      <td>BENE11003</td>\n",
              "      <td>CLM438021</td>\n",
              "      <td>2009-06-27</td>\n",
              "      <td>2009-06-27</td>\n",
              "      <td>PRV57595</td>\n",
              "      <td>10</td>\n",
              "      <td>PHY328821</td>\n",
              "      <td>None</td>\n",
              "      <td>2723</td>\n",
              "      <td>0</td>\n",
              "      <td>...</td>\n",
              "      <td>2</td>\n",
              "      <td>2</td>\n",
              "      <td>2</td>\n",
              "      <td>0</td>\n",
              "      <td>0</td>\n",
              "      <td>90</td>\n",
              "      <td>40</td>\n",
              "      <td>73</td>\n",
              "      <td>False</td>\n",
              "      <td>True</td>\n",
              "    </tr>\n",
              "    <tr>\n",
              "      <th>3</th>\n",
              "      <td>BENE11004</td>\n",
              "      <td>CLM121801</td>\n",
              "      <td>2009-01-06</td>\n",
              "      <td>2009-01-06</td>\n",
              "      <td>PRV56011</td>\n",
              "      <td>40</td>\n",
              "      <td>PHY334319</td>\n",
              "      <td>None</td>\n",
              "      <td>71988</td>\n",
              "      <td>0</td>\n",
              "      <td>...</td>\n",
              "      <td>1</td>\n",
              "      <td>1</td>\n",
              "      <td>2</td>\n",
              "      <td>0</td>\n",
              "      <td>0</td>\n",
              "      <td>1810</td>\n",
              "      <td>760</td>\n",
              "      <td>87</td>\n",
              "      <td>False</td>\n",
              "      <td>True</td>\n",
              "    </tr>\n",
              "    <tr>\n",
              "      <th>4</th>\n",
              "      <td>BENE11004</td>\n",
              "      <td>CLM150998</td>\n",
              "      <td>2009-01-22</td>\n",
              "      <td>2009-01-22</td>\n",
              "      <td>PRV56011</td>\n",
              "      <td>200</td>\n",
              "      <td>PHY403831</td>\n",
              "      <td>None</td>\n",
              "      <td>82382</td>\n",
              "      <td>30000</td>\n",
              "      <td>...</td>\n",
              "      <td>1</td>\n",
              "      <td>1</td>\n",
              "      <td>2</td>\n",
              "      <td>0</td>\n",
              "      <td>0</td>\n",
              "      <td>1810</td>\n",
              "      <td>760</td>\n",
              "      <td>87</td>\n",
              "      <td>False</td>\n",
              "      <td>True</td>\n",
              "    </tr>\n",
              "  </tbody>\n",
              "</table>\n",
              "<p>5 rows × 43 columns</p>\n",
              "</div>\n",
              "      <button class=\"colab-df-convert\" onclick=\"convertToInteractive('df-84d9f7dc-d3eb-466c-a847-823489813f1b')\"\n",
              "              title=\"Convert this dataframe to an interactive table.\"\n",
              "              style=\"display:none;\">\n",
              "        \n",
              "  <svg xmlns=\"http://www.w3.org/2000/svg\" height=\"24px\"viewBox=\"0 0 24 24\"\n",
              "       width=\"24px\">\n",
              "    <path d=\"M0 0h24v24H0V0z\" fill=\"none\"/>\n",
              "    <path d=\"M18.56 5.44l.94 2.06.94-2.06 2.06-.94-2.06-.94-.94-2.06-.94 2.06-2.06.94zm-11 1L8.5 8.5l.94-2.06 2.06-.94-2.06-.94L8.5 2.5l-.94 2.06-2.06.94zm10 10l.94 2.06.94-2.06 2.06-.94-2.06-.94-.94-2.06-.94 2.06-2.06.94z\"/><path d=\"M17.41 7.96l-1.37-1.37c-.4-.4-.92-.59-1.43-.59-.52 0-1.04.2-1.43.59L10.3 9.45l-7.72 7.72c-.78.78-.78 2.05 0 2.83L4 21.41c.39.39.9.59 1.41.59.51 0 1.02-.2 1.41-.59l7.78-7.78 2.81-2.81c.8-.78.8-2.07 0-2.86zM5.41 20L4 18.59l7.72-7.72 1.47 1.35L5.41 20z\"/>\n",
              "  </svg>\n",
              "      </button>\n",
              "      \n",
              "  <style>\n",
              "    .colab-df-container {\n",
              "      display:flex;\n",
              "      flex-wrap:wrap;\n",
              "      gap: 12px;\n",
              "    }\n",
              "\n",
              "    .colab-df-convert {\n",
              "      background-color: #E8F0FE;\n",
              "      border: none;\n",
              "      border-radius: 50%;\n",
              "      cursor: pointer;\n",
              "      display: none;\n",
              "      fill: #1967D2;\n",
              "      height: 32px;\n",
              "      padding: 0 0 0 0;\n",
              "      width: 32px;\n",
              "    }\n",
              "\n",
              "    .colab-df-convert:hover {\n",
              "      background-color: #E2EBFA;\n",
              "      box-shadow: 0px 1px 2px rgba(60, 64, 67, 0.3), 0px 1px 3px 1px rgba(60, 64, 67, 0.15);\n",
              "      fill: #174EA6;\n",
              "    }\n",
              "\n",
              "    [theme=dark] .colab-df-convert {\n",
              "      background-color: #3B4455;\n",
              "      fill: #D2E3FC;\n",
              "    }\n",
              "\n",
              "    [theme=dark] .colab-df-convert:hover {\n",
              "      background-color: #434B5C;\n",
              "      box-shadow: 0px 1px 3px 1px rgba(0, 0, 0, 0.15);\n",
              "      filter: drop-shadow(0px 1px 2px rgba(0, 0, 0, 0.3));\n",
              "      fill: #FFFFFF;\n",
              "    }\n",
              "  </style>\n",
              "\n",
              "      <script>\n",
              "        const buttonEl =\n",
              "          document.querySelector('#df-84d9f7dc-d3eb-466c-a847-823489813f1b button.colab-df-convert');\n",
              "        buttonEl.style.display =\n",
              "          google.colab.kernel.accessAllowed ? 'block' : 'none';\n",
              "\n",
              "        async function convertToInteractive(key) {\n",
              "          const element = document.querySelector('#df-84d9f7dc-d3eb-466c-a847-823489813f1b');\n",
              "          const dataTable =\n",
              "            await google.colab.kernel.invokeFunction('convertToInteractive',\n",
              "                                                     [key], {});\n",
              "          if (!dataTable) return;\n",
              "\n",
              "          const docLinkHtml = 'Like what you see? Visit the ' +\n",
              "            '<a target=\"_blank\" href=https://colab.research.google.com/notebooks/data_table.ipynb>data table notebook</a>'\n",
              "            + ' to learn more about interactive tables.';\n",
              "          element.innerHTML = '';\n",
              "          dataTable['output_type'] = 'display_data';\n",
              "          await google.colab.output.renderOutput(dataTable, element);\n",
              "          const docLink = document.createElement('div');\n",
              "          docLink.innerHTML = docLinkHtml;\n",
              "          element.appendChild(docLink);\n",
              "        }\n",
              "      </script>\n",
              "    </div>\n",
              "  </div>\n",
              "  "
            ]
          },
          "metadata": {},
          "execution_count": 54
        }
      ]
    },
    {
      "cell_type": "code",
      "source": [
        "df_train_op_frd = df_train_op_all[df_train_op_all['PotentialFraud'] == 'Yes']\n",
        "counts = df_train_op_frd['PotentialFraud'].value_counts()\n",
        "\n",
        "# Calculate the percentage of each value in the 'PotentialFraud' column\n",
        "percentages = counts.values / len(df_train_op_all) * 100\n",
        "\n",
        "# Create a figure and axes\n",
        "fig, ax = plt.subplots()\n",
        "\n",
        "# Create a bar chart with the data\n",
        "bars = ax.bar(counts.index, counts.values)\n",
        "\n",
        "# Set the title and axis labels\n",
        "ax.set_title('Number of Potential Fraud Cases for OP')\n",
        "ax.set_xlabel('Potential Fraud')\n",
        "ax.set_ylabel('Count')\n",
        "\n",
        "# Add percentage labels to the bars\n",
        "for bar, percentage in zip(bars, percentages):\n",
        "    ax.annotate(f'{percentage:.1f}%', xy=(bar.get_x() + bar.get_width() / 2, bar.get_height()),\n",
        "                xytext=(0, 3), textcoords='offset points', ha='center', va='bottom', fontsize=10)\n",
        "\n",
        "# Show the plot\n",
        "plt.show()"
      ],
      "metadata": {
        "colab": {
          "base_uri": "https://localhost:8080/",
          "height": 472
        },
        "outputId": "ea5fd43f-28da-4939-96e9-72d6f8eb8c4e",
        "id": "CEOddzlNXdgA"
      },
      "execution_count": null,
      "outputs": [
        {
          "output_type": "display_data",
          "data": {
            "text/plain": [
              "<Figure size 640x480 with 1 Axes>"
            ],
            "image/png": "[encoded data removed]"
          },
          "metadata": {}
        }
      ]
    },
    {
      "cell_type": "markdown",
      "source": [
        "Concat IP and OP"
      ],
      "metadata": {
        "id": "lat5NSTvYHrH"
      }
    },
    {
      "cell_type": "code",
      "source": [
        "# concatenate data frames vertically\n",
        "df_train_ipop = pd.concat([df_train_ip_all, df_train_op_all])\n",
        "df_train_ipop.fillna('None')\n",
        "# reset index\n",
        "df_train_ipop = df_train_ipop.reset_index(drop=True)\n",
        "\n",
        "df_train_ipop.info()"
      ],
      "metadata": {
        "colab": {
          "base_uri": "https://localhost:8080/"
        },
        "id": "oajn4AyIYKxR",
        "outputId": "fbcd32b3-43b9-497f-dfa0-e06ba41253c5"
      },
      "execution_count": null,
      "outputs": [
        {
          "output_type": "stream",
          "name": "stdout",
          "text": [
            "<class 'pandas.core.frame.DataFrame'>\n",
            "RangeIndex: 558211 entries, 0 to 558210\n",
            "Data columns (total 46 columns):\n",
            " #   Column                           Non-Null Count   Dtype         \n",
            "---  ------                           --------------   -----         \n",
            " 0   BeneID                           558211 non-null  object        \n",
            " 1   ClaimID                          558211 non-null  object        \n",
            " 2   ClaimStartDt                     558211 non-null  object        \n",
            " 3   ClaimEndDt                       558211 non-null  object        \n",
            " 4   Provider                         558211 non-null  object        \n",
            " 5   InscClaimAmtReimbursed           558211 non-null  int64         \n",
            " 6   AttendingPhysician               558099 non-null  object        \n",
            " 7   OperatingPhysician               541567 non-null  object        \n",
            " 8   AdmissionDt                      40474 non-null   object        \n",
            " 9   ClmAdmitDiagnosisCode            558211 non-null  object        \n",
            " 10  DeductibleAmtPaid                557312 non-null  float64       \n",
            " 11  DischargeDt                      40474 non-null   object        \n",
            " 12  DiagnosisGroupCode               40474 non-null   object        \n",
            " 13  ClmDiagnosisCode_1               558211 non-null  object        \n",
            " 14  ClmDiagnosisCode_2               557985 non-null  object        \n",
            " 15  ClmDiagnosisCode_3               557535 non-null  object        \n",
            " 16  ClmDiagnosisCode_4               556677 non-null  object        \n",
            " 17  ClmDiagnosisCode_5               555317 non-null  object        \n",
            " 18  ClmDiagnosisCode_6               553373 non-null  object        \n",
            " 19  ClmDiagnosisCode_7               550953 non-null  object        \n",
            " 20  ClmDiagnosisCode_8               548269 non-null  object        \n",
            " 21  ClmDiagnosisCode_9               544714 non-null  object        \n",
            " 22  ClmProcedureCode_1               540885 non-null  float64       \n",
            " 23  PotentialFraud                   558211 non-null  object        \n",
            " 24  DOB                              558211 non-null  datetime64[ns]\n",
            " 25  DOD                              558211 non-null  datetime64[ns]\n",
            " 26  Gender                           558211 non-null  int64         \n",
            " 27  RenalDiseaseIndicator            558211 non-null  object        \n",
            " 28  ChronicCond_Alzheimer            558211 non-null  int64         \n",
            " 29  ChronicCond_Heartfailure         558211 non-null  int64         \n",
            " 30  ChronicCond_KidneyDisease        558211 non-null  int64         \n",
            " 31  ChronicCond_Cancer               558211 non-null  int64         \n",
            " 32  ChronicCond_ObstrPulmonary       558211 non-null  int64         \n",
            " 33  ChronicCond_Depression           558211 non-null  int64         \n",
            " 34  ChronicCond_Diabetes             558211 non-null  int64         \n",
            " 35  ChronicCond_IschemicHeart        558211 non-null  int64         \n",
            " 36  ChronicCond_Osteoporasis         558211 non-null  int64         \n",
            " 37  ChronicCond_rheumatoidarthritis  558211 non-null  int64         \n",
            " 38  ChronicCond_stroke               558211 non-null  int64         \n",
            " 39  IPAnnualReimbursementAmt         558211 non-null  int64         \n",
            " 40  IPAnnualDeductibleAmt            558211 non-null  int64         \n",
            " 41  OPAnnualReimbursementAmt         558211 non-null  int64         \n",
            " 42  OPAnnualDeductibleAmt            558211 non-null  int64         \n",
            " 43  Age                              558211 non-null  int64         \n",
            " 44  has_claimed_ip                   558211 non-null  bool          \n",
            " 45  has_claimed_op                   517737 non-null  object        \n",
            "dtypes: bool(1), datetime64[ns](2), float64(2), int64(18), object(23)\n",
            "memory usage: 192.2+ MB\n"
          ]
        }
      ]
    }
  ]
}